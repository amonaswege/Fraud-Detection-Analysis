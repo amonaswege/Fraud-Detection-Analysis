{
 "cells": [
  {
   "cell_type": "markdown",
   "id": "598fbb20",
   "metadata": {},
   "source": [
    "# Forensic Fraud Detection — Full Step-by-Step Notebook\n",
    "\n",
    "This notebook is organized to follow the exact steps you requested. Run cells in order."
   ]
  },
  {
   "cell_type": "markdown",
   "id": "49e14241",
   "metadata": {},
   "source": [
    "## 1) Load & Explore Data\n",
    "\n",
    "Read the CSV and inspect basic info."
   ]
  },
  {
   "cell_type": "code",
   "execution_count": null,
   "id": "32d102fe",
   "metadata": {},
   "outputs": [],
   "source": [
    "\n",
    "import pandas as pd, numpy as np\n",
    "df_raw = pd.read_csv(\"fraud_data.csv\", dtype=str)\n",
    "print(\"Shape:\", df_raw.shape)\n",
    "display(df_raw.head())\n",
    "display(df_raw.dtypes)\n"
   ]
  },
  {
   "cell_type": "markdown",
   "id": "1d5022e3",
   "metadata": {},
   "source": [
    "## 2) Show first rows (parsed numeric columns)"
   ]
  },
  {
   "cell_type": "code",
   "execution_count": null,
   "id": "3fbbd110",
   "metadata": {},
   "outputs": [],
   "source": [
    "\n",
    "df = df_raw.copy()\n",
    "for c in ['amt','lat','long','city_pop','merch_lat','merch_long']:\n",
    "    if c in df.columns:\n",
    "        df[c] = pd.to_numeric(df[c], errors='coerce')\n",
    "display(df.head())\n"
   ]
  },
  {
   "cell_type": "markdown",
   "id": "6637ea7c",
   "metadata": {},
   "source": [
    "## 3) Summary (normal vs fraud counts)\n",
    "Clean the is_fraud column and show counts."
   ]
  },
  {
   "cell_type": "code",
   "execution_count": null,
   "id": "e3ab9862",
   "metadata": {},
   "outputs": [],
   "source": [
    "\n",
    "import re\n",
    "def extract_leading_digit(x):\n",
    "    s = str(x)\n",
    "    m = re.search(r'([01])', s)\n",
    "    return int(m.group(1)) if m else np.nan\n",
    "target = 'is_fraud' if 'is_fraud' in df.columns else df.columns[-1]\n",
    "df['is_fraud_clean'] = df[target].apply(extract_leading_digit)\n",
    "print(\"Counts:\")\n",
    "print(df['is_fraud_clean'].value_counts(dropna=False))\n",
    "print(\"Percent:\")\n",
    "print(df['is_fraud_clean'].value_counts(normalize=True, dropna=False)*100)\n"
   ]
  },
  {
   "cell_type": "markdown",
   "id": "b4c1d24d",
   "metadata": {},
   "source": [
    "## 4) Visualization of fraud vs normal (bar chart)"
   ]
  },
  {
   "cell_type": "code",
   "execution_count": null,
   "id": "de359d09",
   "metadata": {},
   "outputs": [],
   "source": [
    "\n",
    "import matplotlib.pyplot as plt\n",
    "counts = df['is_fraud_clean'].value_counts().sort_index()\n",
    "labels = ['non-fraud (0)','fraud (1)']\n",
    "values = [counts.get(0,0), counts.get(1,0)]\n",
    "plt.figure(figsize=(6,4))\n",
    "plt.bar(labels, values)\n",
    "plt.title(\"Class Distribution: Fraud vs Non-Fraud\")\n",
    "plt.ylabel(\"Counts\")\n",
    "for i,v in enumerate(values):\n",
    "    plt.text(i, v + max(values)*0.01, str(int(v)), ha='center')\n",
    "plt.show()\n"
   ]
  },
  {
   "cell_type": "markdown",
   "id": "e3587dd3",
   "metadata": {},
   "source": [
    "## 5) Data Preprocessing\n",
    "- Drop duplicates\n",
    "- Handle missing values\n",
    "- Parse transaction time\n",
    "- Create hour_of_day and distance_km (if lat/lon present)"
   ]
  },
  {
   "cell_type": "code",
   "execution_count": null,
   "id": "74709176",
   "metadata": {},
   "outputs": [],
   "source": [
    "\n",
    "# Drop duplicates and handle missing target rows\n",
    "df_clean = df.drop_duplicates().copy()\n",
    "df_clean = df_clean.dropna(subset=['is_fraud_clean']).reset_index(drop=True)\n",
    "df_clean['is_fraud_clean'] = df_clean['is_fraud_clean'].astype(int)\n",
    "\n",
    "# Parse datetime and extract hour/day\n",
    "if 'trans_date_trans_time' in df_clean.columns:\n",
    "    df_clean['trans_date_trans_time'] = pd.to_datetime(df_clean['trans_date_trans_time'], errors='coerce')\n",
    "    df_clean['hour_of_day'] = df_clean['trans_date_trans_time'].dt.hour\n",
    "    df_clean['day_of_week'] = df_clean['trans_date_trans_time'].dt.dayofweek\n",
    "\n",
    "# Convert numeric columns\n",
    "for c in ['amt','lat','long','city_pop','merch_lat','merch_long']:\n",
    "    if c in df_clean.columns:\n",
    "        df_clean[c] = pd.to_numeric(df_clean[c], errors='coerce')\n",
    "\n",
    "# Create distance feature if lat/long available\n",
    "import math\n",
    "def haversine_km(lat1, lon1, lat2, lon2):\n",
    "    try:\n",
    "        if any(pd.isna([lat1, lon1, lat2, lon2])):\n",
    "            return np.nan\n",
    "        rlat1, rlon1, rlat2, rlon2 = map(math.radians, [lat1, lon1, lat2, lon2])\n",
    "        dlat = rlat2 - rlat1\n",
    "        dlon = rlon2 - rlon1\n",
    "        a = math.sin(dlat/2)**2 + math.cos(rlat1)*math.cos(rlat2)*math.sin(dlon/2)**2\n",
    "        c = 2*math.asin(math.sqrt(a))\n",
    "        return 6371*c\n",
    "    except:\n",
    "        return np.nan\n",
    "\n",
    "if set(['lat','long','merch_lat','merch_long']).issubset(set(df_clean.columns)):\n",
    "    df_clean['distance_km'] = df_clean.apply(lambda r: haversine_km(r['lat'], r['long'], r['merch_lat'], r['merch_long']), axis=1)\n",
    "\n",
    "print(\"Clean shape:\", df_clean.shape)\n",
    "display(df_clean.head())\n"
   ]
  },
  {
   "cell_type": "markdown",
   "id": "3270e0a6",
   "metadata": {},
   "source": [
    "## 6) Handle class imbalance\n",
    "Two strategies:\n",
    "A) class-weighted models\n",
    "B) upsample minority in training set\n",
    "\n",
    "We will prepare train/test split and build both variants."
   ]
  },
  {
   "cell_type": "code",
   "execution_count": null,
   "id": "ad0ca102",
   "metadata": {},
   "outputs": [],
   "source": [
    "\n",
    "from sklearn.model_selection import train_test_split\n",
    "from sklearn.utils import resample\n",
    "\n",
    "feature_cols = [c for c in ['amt','hour_of_day','city_pop','distance_km','lat','long','merch_lat','merch_long'] if c in df_clean.columns]\n",
    "df_model = df_clean.dropna(subset=feature_cols + ['is_fraud_clean']).reset_index(drop=True)\n",
    "X = df_model[feature_cols]\n",
    "y = df_model['is_fraud_clean']\n",
    "\n",
    "print(\"Features used:\", feature_cols)\n",
    "print(\"Dataset for modeling:\", X.shape)\n",
    "print(\"Class counts:\", y.value_counts())\n",
    "\n",
    "X_train, X_test, y_train, y_test = train_test_split(X, y, test_size=0.2, random_state=42, stratify=y)\n",
    "print(\"Train/test shapes:\", X_train.shape, X_test.shape)\n",
    "print(\"Train class counts:\", y_train.value_counts())\n",
    "\n",
    "# Upsample minority in train\n",
    "train_df = X_train.copy(); train_df['is_fraud_clean'] = y_train.values\n",
    "minority = train_df[train_df['is_fraud_clean']==1]\n",
    "majority = train_df[train_df['is_fraud_clean']==0]\n",
    "if len(minority) > 0 and len(minority) < len(majority):\n",
    "    minority_upsampled = resample(minority, replace=True, n_samples=len(majority), random_state=42)\n",
    "    train_balanced = pd.concat([majority, minority_upsampled]).sample(frac=1, random_state=42).reset_index(drop=True)\n",
    "    X_train_bal = train_balanced.drop(columns=['is_fraud_clean'])\n",
    "    y_train_bal = train_balanced['is_fraud_clean']\n",
    "    print(\"Balanced train created. New counts:\", y_train_bal.value_counts())\n",
    "else:\n",
    "    X_train_bal, y_train_bal = X_train, y_train\n",
    "    print(\"No upsampling performed (minority absent or not smaller).\")\n"
   ]
  },
  {
   "cell_type": "markdown",
   "id": "76afb4cb",
   "metadata": {},
   "source": [
    "## 7) Feature scaling\n",
    "StandardScaler fit on training set and applied to test set. For the balanced train set we scale it too."
   ]
  },
  {
   "cell_type": "code",
   "execution_count": null,
   "id": "97b99c42",
   "metadata": {},
   "outputs": [],
   "source": [
    "\n",
    "from sklearn.preprocessing import StandardScaler\n",
    "scaler = StandardScaler()\n",
    "X_train_s = scaler.fit_transform(X_train)\n",
    "X_test_s = scaler.transform(X_test)\n",
    "if 'X_train_bal' in globals() and X_train_bal is not None:\n",
    "    X_train_bal_s = scaler.transform(X_train_bal) if X_train_bal.shape[1]==X_train.shape[1] else scaler.fit_transform(X_train_bal)\n",
    "else:\n",
    "    X_train_bal_s = None\n",
    "print(\"Scaling ready. Example means (should be near 0):\", X_train_s.mean(axis=0)[:5])\n"
   ]
  },
  {
   "cell_type": "markdown",
   "id": "63e1aef9",
   "metadata": {},
   "source": [
    "## 8) Fraud Analysis — Transactions by amount and time\n",
    "\n",
    "We compute statistics and show histograms for amount (fraud vs non-fraud) and transactions by hour of day."
   ]
  },
  {
   "cell_type": "code",
   "execution_count": null,
   "id": "02dd379a",
   "metadata": {},
   "outputs": [],
   "source": [
    "\n",
    "import matplotlib.pyplot as plt, numpy as np\n",
    "if 'amt' in df_model.columns:\n",
    "    stats = df_model.groupby('is_fraud_clean')['amt'].agg(['count','mean','median','std'])\n",
    "    print(\"Amount stats by class:\"); display(stats)\n",
    "    nonfraud = df_model[df_model['is_fraud_clean']==0]['amt'].dropna()\n",
    "    fraud = df_model[df_model['is_fraud_clean']==1]['amt'].dropna()\n",
    "    # Non-fraud histogram\n",
    "    plt.figure(figsize=(8,4))\n",
    "    plt.hist(nonfraud, bins=60)\n",
    "    plt.title(\"Amount distribution - Non-Fraud\")\n",
    "    plt.xlabel(\"Amount\")\n",
    "    plt.xlim(0, np.percentile(nonfraud,99))\n",
    "    plt.show()\n",
    "    # Fraud histogram\n",
    "    plt.figure(figsize=(8,4))\n",
    "    plt.hist(fraud, bins=60)\n",
    "    plt.title(\"Amount distribution - Fraud\")\n",
    "    plt.xlabel(\"Amount\")\n",
    "    plt.xlim(0, np.percentile(nonfraud,99))\n",
    "    plt.show()\n",
    "else:\n",
    "    print(\"No 'amt' column available.\")\n",
    "\n",
    "# Transactions by hour\n",
    "if 'hour_of_day' in df_model.columns:\n",
    "    counts = df_model.groupby(['hour_of_day','is_fraud_clean']).size().unstack(fill_value=0)\n",
    "    print(\"Counts by hour (first rows):\"); display(counts.head(24))\n",
    "    hours = np.arange(0,24)\n",
    "    nonf = counts.get(0, pd.Series(0,index=hours)).reindex(hours, fill_value=0)\n",
    "    fr = counts.get(1, pd.Series(0,index=hours)).reindex(hours, fill_value=0)\n",
    "    plt.figure(figsize=(10,4))\n",
    "    plt.plot(hours, nonf, marker='o', label='Non-Fraud (0)')\n",
    "    plt.plot(hours, fr, marker='o', label='Fraud (1)')\n",
    "    plt.xlabel(\"Hour of day\"); plt.ylabel(\"Transaction count\")\n",
    "    plt.title(\"Transactions by Hour — Fraud vs Non-Fraud\")\n",
    "    plt.legend(); plt.grid(True)\n",
    "    plt.show()\n",
    "else:\n",
    "    print(\"No hour_of_day column available.\")\n"
   ]
  },
  {
   "cell_type": "markdown",
   "id": "56b3a939",
   "metadata": {},
   "source": [
    "## 9) Modeling — Logistic Regression & Random Forest\n",
    "\n",
    "Train and evaluate Logistic Regression and Random Forest (class-weighted) and Random Forest on upsampled data (if created)."
   ]
  },
  {
   "cell_type": "code",
   "execution_count": null,
   "id": "bbd938e7",
   "metadata": {},
   "outputs": [],
   "source": [
    "\n",
    "from sklearn.linear_model import LogisticRegression\n",
    "from sklearn.ensemble import RandomForestClassifier\n",
    "from sklearn.metrics import classification_report, confusion_matrix, precision_score, recall_score, f1_score, roc_auc_score, roc_curve\n",
    "results = {}\n",
    "\n",
    "def fit_eval(name, model, Xtr, Xte, ytr, yte):\n",
    "    model.fit(Xtr, ytr)\n",
    "    ypred = model.predict(Xte)\n",
    "    try:\n",
    "        yprob = model.predict_proba(Xte)[:,1]\n",
    "    except:\n",
    "        try: yprob = model.decision_function(Xte)\n",
    "        except: yprob = None\n",
    "    print(\"=== Model:\", name, \"===\")\n",
    "    print(classification_report(yte, ypred, digits=4))\n",
    "    cm = confusion_matrix(yte, ypred)\n",
    "    print(\"Confusion matrix:\n",
    "\", cm)\n",
    "    aucv = roc_auc_score(yte, yprob) if yprob is not None else None\n",
    "    print(\"ROC AUC:\", aucv)\n",
    "    results[name] = {'model': model, 'auc': aucv}\n",
    "    return results[name]\n",
    "\n",
    "# Logistic Regression with class weights\n",
    "lr = LogisticRegression(class_weight='balanced', solver='liblinear', max_iter=1000, random_state=42)\n",
    "fit_eval('LogReg_class_weight', lr, X_train_s, X_test_s, y_train, y_test)\n",
    "\n",
    "# Random Forest with class weight on original train\n",
    "rf = RandomForestClassifier(n_estimators=150, class_weight='balanced_subsample', random_state=42, n_jobs=-1)\n",
    "fit_eval('RF_class_weight', rf, X_train_s, X_test_s, y_train, y_test)\n",
    "\n",
    "# Random Forest on upsampled balanced train (if present)\n",
    "if X_train_bal_s is not None:\n",
    "    rf2 = RandomForestClassifier(n_estimators=150, random_state=42, n_jobs=-1)\n",
    "    fit_eval('RF_upsampled_train', rf2, X_train_bal_s, X_test_s, y_train_bal, y_test)\n",
    "else:\n",
    "    print(\"No balanced train present; skipped RF_upsampled_train\")\n"
   ]
  },
  {
   "cell_type": "markdown",
   "id": "cb420242",
   "metadata": {},
   "source": [
    "## 10) Compare performance (metrics table + ROC curves)"
   ]
  },
  {
   "cell_type": "code",
   "execution_count": null,
   "id": "ff5fbc94",
   "metadata": {},
   "outputs": [],
   "source": [
    "\n",
    "import pandas as pd\n",
    "rows = []\n",
    "for name, info in results.items():\n",
    "    rows.append({'model':name, 'roc_auc':info['auc']})\n",
    "metrics_df = pd.DataFrame(rows).set_index('model')\n",
    "display(metrics_df)\n",
    "\n",
    "# ROC curves for models that have probabilities\n",
    "plt.figure(figsize=(7,6))\n",
    "for name, info in results.items():\n",
    "    model = info['model']\n",
    "    try:\n",
    "        yprob = model.predict_proba(X_test_s)[:,1]\n",
    "    except:\n",
    "        try: yprob = model.decision_function(X_test_s)\n",
    "        except: yprob = None\n",
    "    if yprob is not None:\n",
    "        fpr, tpr, _ = roc_curve(y_test, yprob)\n",
    "        plt.plot(fpr, tpr, label=f\"{name} (AUC={info['auc']:.3f})\")\n",
    "plt.plot([0,1],[0,1], '--', linewidth=1)\n",
    "plt.xlabel(\"FPR\"); plt.ylabel(\"TPR\"); plt.title(\"ROC Comparison\")\n",
    "plt.legend(); plt.grid(True); plt.show()\n"
   ]
  },
  {
   "cell_type": "markdown",
   "id": "5a4989ab",
   "metadata": {},
   "source": [
    "## 11) Visualization & Dashboard\n",
    "All important graphs are in this notebook (above). We also save key charts to `outputs/` for use in README or a Power BI import."
   ]
  },
  {
   "cell_type": "code",
   "execution_count": null,
   "id": "9e203b19",
   "metadata": {},
   "outputs": [],
   "source": [
    "\n",
    "import os\n",
    "outdir = \"outputs\"\n",
    "os.makedirs(outdir, exist_ok=True)\n",
    "\n",
    "# Save class distribution\n",
    "plt.figure(figsize=(6,4))\n",
    "counts = df_clean['is_fraud_clean'].value_counts().sort_index()\n",
    "labels = ['non-fraud (0)','fraud (1)']\n",
    "values = [counts.get(0,0), counts.get(1,0)]\n",
    "plt.bar(labels, values); plt.title(\"Class Distribution: Fraud vs Non-Fraud\")\n",
    "plt.tight_layout(); plt.savefig(os.path.join(outdir, \"class_distribution.png\")); plt.close()\n",
    "\n",
    "# Save example amount histograms if available\n",
    "if 'amt' in df_model.columns:\n",
    "    nonfraud = df_model[df_model['is_fraud_clean']==0]['amt'].dropna()\n",
    "    fraud = df_model[df_model['is_fraud_clean']==1]['amt'].dropna()\n",
    "    plt.figure(figsize=(8,4)); plt.hist(nonfraud, bins=60); plt.xlim(0, np.percentile(nonfraud,99))\n",
    "    plt.tight_layout(); plt.savefig(os.path.join(outdir, \"amount_nonfraud.png\")); plt.close()\n",
    "    plt.figure(figsize=(8,4)); plt.hist(fraud, bins=60); plt.xlim(0, np.percentile(nonfraud,99))\n",
    "    plt.tight_layout(); plt.savefig(os.path.join(outdir, \"amount_fraud.png\")); plt.close()\n",
    "\n",
    "# Save ROC plot\n",
    "plt.figure(figsize=(7,6))\n",
    "for name, info in results.items():\n",
    "    model = info['model']\n",
    "    try: yprob = model.predict_proba(X_test_s)[:,1]\n",
    "    except:\n",
    "        try: yprob = model.decision_function(X_test_s)\n",
    "        except: yprob = None\n",
    "    if yprob is not None:\n",
    "        fpr,tpr,_ = roc_curve(y_test, yprob)\n",
    "        plt.plot(fpr,tpr, label=f\"{name} (AUC={info['auc']:.3f})\")\n",
    "plt.plot([0,1],[0,1],'--'); plt.legend(); plt.tight_layout(); plt.savefig(os.path.join(outdir, \"roc_comparison.png\")); plt.close()\n",
    "\n",
    "print(\"Saved outputs to\", outdir)\n"
   ]
  },
  {
   "cell_type": "markdown",
   "id": "8209d3ed",
   "metadata": {},
   "source": [
    "## 12) Documentation & next steps\n",
    "- Add the images in `outputs/` into README.\n",
    "- Optionally import the `outputs/*.png` into a Power BI report and create interactive visuals.\n",
    "\n",
    "If you want, say **make CV** and provide your details (Name, email, phone, university, graduation year, certifications, languages) and I'll produce a professional CV that highlights this project."
   ]
  }
 ],
 "metadata": {},
 "nbformat": 4,
 "nbformat_minor": 5
}
